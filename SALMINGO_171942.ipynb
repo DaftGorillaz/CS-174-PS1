{
 "cells": [
  {
   "cell_type": "markdown",
   "metadata": {},
   "source": [
    "## PS 1 Solutions"
   ]
  },
  {
   "cell_type": "markdown",
   "metadata": {},
   "source": [
    "1) Palindrome"
   ]
  },
  {
   "cell_type": "code",
   "execution_count": 2,
   "metadata": {},
   "outputs": [
    {
     "data": {
      "text/plain": [
       "True"
      ]
     },
     "execution_count": 2,
     "metadata": {},
     "output_type": "execute_result"
    }
   ],
   "source": [
    "def palindrome(string):\n",
    "    string = string.lower()\n",
    "    string = string.replace(\" \", \"\")\n",
    "    \n",
    "    if string[::-1] == string:\n",
    "        return True\n",
    "    return False\n",
    "\n",
    "#Testing Palindrome\n",
    "string = \"Are we not drawn onward to new era\"\n",
    "palindrome(string)"
   ]
  },
  {
   "cell_type": "markdown",
   "metadata": {},
   "source": [
    "2) Prime Checker"
   ]
  },
  {
   "cell_type": "code",
   "execution_count": 5,
   "metadata": {},
   "outputs": [
    {
     "name": "stdout",
     "output_type": "stream",
     "text": [
      "2 is a prime\n",
      "28 is not a prime\n",
      "-1 None\n"
     ]
    }
   ],
   "source": [
    "def isprime(x):\n",
    "    if x == 1:\n",
    "        return \"is not a prime\"\n",
    "    if x == 2:\n",
    "        return \"is a prime\"\n",
    "    else:\n",
    "        for div in range(2, x):\n",
    "            if x % div == 0:\n",
    "                return \"is not a prime\"\n",
    "            return \"is a prime\"\n",
    "        \n",
    "#Testing Prime Checker\n",
    "x = 2\n",
    "print(x, isprime(x))\n",
    "\n",
    "y = 28\n",
    "print(y, isprime(y))\n",
    "\n",
    "z = -1\n",
    "print(z, isprime(z))\n"
   ]
  },
  {
   "cell_type": "markdown",
   "metadata": {},
   "source": [
    "3) All Star 1"
   ]
  },
  {
   "cell_type": "code",
   "execution_count": 6,
   "metadata": {},
   "outputs": [
    {
     "name": "stdout",
     "output_type": "stream",
     "text": [
      "G, D, Am, C, G, D, Am, C, G, D, Am, C, G, D, Am , C\n"
     ]
    }
   ],
   "source": [
    "allstar = open(\"data/allstar.txt\", \"r\")\n",
    "\n",
    "#print(allstar.read())\n",
    "\n",
    "allstardictionary = {'Verse 1': 'G, D, Am, C, G, D, Am, C, G, D, Am, C, G, D, Am, C, G, D, Am, C, G, D, Am, C, G, D, Am, C, G, D, Am, C',\n",
    "                     'Chorus': 'G, C, C#m, C, G, C, C#m, C, G, C, C#m, C, G, F, C',\n",
    "                     'Verse 2': 'G, D, Am, C, G, D, Am, C, G, D, Am, C, G, D, Am , C',\n",
    "                     'Verse 3': 'G, D, Am, C, G, D, Am, C, G, D, Am, C, G, D, Am, C, G, D, Am, C, G, D, Am, C, G, D, Am, C, G, D, Am, C'}\n",
    "\n",
    "print(allstardictionary['Verse 2'])\n",
    "        "
   ]
  },
  {
   "cell_type": "code",
   "execution_count": 7,
   "metadata": {},
   "outputs": [],
   "source": [
    "#Ver 2 of All Star 1\n",
    "\n",
    "#if text has [] then that is the key. Try to skip lines to get the chord names. Try to get rid of white spaces, the double enter'''"
   ]
  },
  {
   "cell_type": "markdown",
   "metadata": {},
   "source": [
    "4) All Star 2"
   ]
  },
  {
   "cell_type": "code",
   "execution_count": 8,
   "metadata": {},
   "outputs": [
    {
     "ename": "SyntaxError",
     "evalue": "unexpected EOF while parsing (<ipython-input-8-4ce292e264ca>, line 1)",
     "output_type": "error",
     "traceback": [
      "\u001b[1;36m  File \u001b[1;32m\"<ipython-input-8-4ce292e264ca>\"\u001b[1;36m, line \u001b[1;32m1\u001b[0m\n\u001b[1;33m    def keychords(allstar):\u001b[0m\n\u001b[1;37m                           ^\u001b[0m\n\u001b[1;31mSyntaxError\u001b[0m\u001b[1;31m:\u001b[0m unexpected EOF while parsing\n"
     ]
    }
   ],
   "source": [
    "def keychords(allstar):"
   ]
  },
  {
   "cell_type": "markdown",
   "metadata": {},
   "source": [
    "5) Rick Rolled"
   ]
  },
  {
   "cell_type": "code",
   "execution_count": 10,
   "metadata": {},
   "outputs": [
    {
     "ename": "SyntaxError",
     "evalue": "unexpected EOF while parsing (<ipython-input-10-81298a7407c8>, line 4)",
     "output_type": "error",
     "traceback": [
      "\u001b[1;36m  File \u001b[1;32m\"<ipython-input-10-81298a7407c8>\"\u001b[1;36m, line \u001b[1;32m4\u001b[0m\n\u001b[1;33m    \u001b[0m\n\u001b[1;37m    ^\u001b[0m\n\u001b[1;31mSyntaxError\u001b[0m\u001b[1;31m:\u001b[0m unexpected EOF while parsing\n"
     ]
    }
   ],
   "source": [
    "file_rickroll = open(\"data/Rick Astley - Never Gonna Give You Up Lyrics _ AZLyrics.com.html\")\n",
    "\n",
    "def rickroll(file_rickroll):\n",
    "\n",
    "    \n",
    "#How many unique words are there?\n",
    "\n",
    "#List what will Rick Astley never do?\n",
    "\n",
    "#Write a function that lsits all the unique words that counts the num of occurences.\n",
    "#Output the result as a dictionary similar to Item 4.\n",
    "\n",
    "#Use the dictionary from above to create a word count histogram\n",
    "    "
   ]
  },
  {
   "cell_type": "markdown",
   "metadata": {},
   "source": [
    "Bonus"
   ]
  },
  {
   "cell_type": "code",
   "execution_count": null,
   "metadata": {},
   "outputs": [],
   "source": []
  }
 ],
 "metadata": {
  "kernelspec": {
   "display_name": "Python 3",
   "language": "python",
   "name": "python3"
  },
  "language_info": {
   "codemirror_mode": {
    "name": "ipython",
    "version": 3
   },
   "file_extension": ".py",
   "mimetype": "text/x-python",
   "name": "python",
   "nbconvert_exporter": "python",
   "pygments_lexer": "ipython3",
   "version": "3.7.4"
  }
 },
 "nbformat": 4,
 "nbformat_minor": 2
}
